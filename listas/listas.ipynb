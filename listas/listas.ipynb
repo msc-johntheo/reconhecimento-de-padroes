{
 "cells": [
  {
   "cell_type": "markdown",
   "metadata": {
    "collapsed": false
   },
   "source": [
    "<table>\n",
    "  <tr>\n",
    "    <td>\n",
    "      <center>\n",
    "        <img src=\"https://coens.dv.utfpr.edu.br/hub/wp-content/themes/generatepress/img/logo_utf.png\" width=\"200\"/>\n",
    "      </center>\n",
    "    </td>\n",
    "    <td>\n",
    "      <center style=\"grid-column-start: 2; grid-column-end: 3\"\\>\n",
    "        <h1>Aprendizado de Máquina e Reconhecimento de Padrões</h1>\n",
    "        <h2>Universidade Tecnológica Federal do Paraná - CPGEI</h2>\n",
    "        <h3> John Theo - john.theo.souza@gmail.com </h3>\n",
    "      </center>\n",
    "    </td>\n",
    "    <td>\n",
    "      <center>\n",
    "        <img src=\"http://www.utfpr.edu.br/curitiba/estrutura-universitaria/diretorias/dirppg/programas/cpgei/inicio/CPGEI.png\" width=\"200\"/>\n",
    "      </center>\n",
    "    </td>\n",
    "  </tr>\n",
    "</table>"
   ]
  },
  {
   "cell_type": "markdown",
   "metadata": {
    "collapsed": false
   },
   "source": [
    "# Lista 1\n",
    "\n",
    "## Teóricos  \n",
    "1. **Considerar uma família com duas crianças. Assumir que existe a mesma chance de cada criança ser menino ou menina. Qual a probabilidade de ambas serem meninos, dados que:**  \n",
    "\n",
    "    a) A mais velha é menino;  \n",
    "        Espaço amostral(total de eventos possíveis) = 2 * 2 = 2  \n",
    "        Eventos favoráveis: MM - total de 1 evento possível  \n",
    "        $p = 1/4 = 25\\%$  \n",
    "\n",
    "    b) pelo menos um deles é menino  \n",
    "        Espaço amostral(total de eventos possíveis) = 2 * 2 = 2  \n",
    "        Eventos favoráveis: MM, MF, FM - total de 3 eventos possíveis  \n",
    "        $p = 3/4 = 75\\%$  \n",
    "\n",
    "\n"
   ]
  },
  {
   "cell_type": "markdown",
   "metadata": {
    "collapsed": false
   },
   "source": [
    "\n",
    "2. **Considere duas urnas:**  \n",
    "    **- Urna I contém 5 bolas brancas e 3 bolas pretas.**  \n",
    "    **- Urna II contém 3 bolas brancas e 7 bolas pretas.**  \n",
    "    **Uma urna é escolhida aleatoriamente e uma bola é retirada dela. Qual a probabilidade da bola ser branca, suponto que $P(C1) = P(C2) = 1/2$ (as probabilidade de escolher uma das urnas)**  \n",
    "\n",
    "    $p = P(C1) * P(B) + P(C2) * (PB)$\n",
    "    $p = 1/2 * 5/8 + 1/2 * 3/10$\n"
   ]
  },
  {
   "cell_type": "markdown",
   "metadata": {
    "collapsed": false
   },
   "source": [
    "3. **O médico informa que ele tem uma boa e uma má notícia.**  \n",
    "    **a) A má notícia é que você recebeu o resultado positivo de um teste para uma doença grave.**  \n",
    "    **b) O teste tem um desempenho de 99% de acerto. Isso significa que a probabiliade de receber um resultado positivo, dado que você tem a doença é de 0.98. Isso também é valido quando você recebe um resultado negativo, dado que você não tenha a doença**  \n",
    "    **c) A boa notícia é que a doença é bastante rara e somente 1 em 12.000 pessoas sofre dessa doença.**  \n",
    "    \n",
    "    **Quais as chances de você realmente ter a doença?**  \n",
    "\n",
    "    $$p = p(D)*p(T) = 1/12000 * 98/100 = 0,000008\\%$$"
   ]
  },
  {
   "cell_type": "markdown",
   "metadata": {
    "collapsed": false
   },
   "source": [
    "## Práticos"
   ]
  },
  {
   "cell_type": "markdown",
   "metadata": {
    "collapsed": false
   },
   "source": [
    "1. Em um problema com trës classes(bidimensional), os vetories de característica em cada classe são normalmente distribuídos de acordo com a seguinte matriz de covariância:  \n",
    "$$\\Sigma = \\begin{bmatrix}\n",
    "1.2 & 0.4 \\\\\n",
    "0.4 & 1.8\n",
    "\\end{bmatrix}$$  \n",
    "Os Vetores de média de cada classe são $\\begin{bmatrix}0.1 & 0.1\\end{bmatrix}^T$,$\\begin{bmatrix}2.1 & 1.9\\end{bmatrix}^T$,$\\begin{bmatrix}1.5 & 2.0\\end{bmatrix}^T$"
   ]
  },
  {
   "cell_type": "markdown",
   "metadata": {
    "collapsed": false
   },
   "source": [
    "> a) Escreva uma função para plotar as três classes(usando cores diferentes), com um número de exemplos por classe a sua escolha"
   ]
  },
  {
   "cell_type": "code",
   "execution_count": 0,
   "metadata": {
    "collapsed": false
   },
   "outputs": [
   ],
   "source": [
    "\n"
   ]
  },
  {
   "cell_type": "markdown",
   "metadata": {
    "collapsed": false
   },
   "source": [
    "> b) Como você faria para construir um classificador capaz de separar essas classes(intuitivamente)?"
   ]
  },
  {
   "cell_type": "code",
   "execution_count": 0,
   "metadata": {
    "collapsed": false
   },
   "outputs": [
   ],
   "source": [
   ]
  },
  {
   "cell_type": "markdown",
   "metadata": {
    "collapsed": false
   },
   "source": [
    "> c) Qual a relação dos parâmetros(média e covariância) com o desempenho desse classificador?"
   ]
  },
  {
   "cell_type": "code",
   "execution_count": 0,
   "metadata": {
    "collapsed": false
   },
   "outputs": [
   ],
   "source": [
   ]
  }
 ],
 "metadata": {
  "kernelspec": {
   "display_name": "SageMath (stable)",
   "language": "sagemath",
   "name": "sagemath"
  },
  "language_info": {
   "codemirror_mode": {
    "name": "ipython",
    "version": 2
   },
   "file_extension": ".py",
   "mimetype": "text/x-python",
   "name": "python",
   "nbconvert_exporter": "python",
   "pygments_lexer": "ipython2",
   "version": "2.7.15"
  }
 },
 "nbformat": 4,
 "nbformat_minor": 0
}