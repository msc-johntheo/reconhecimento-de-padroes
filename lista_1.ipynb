{
  "nbformat": 4,
  "nbformat_minor": 0,
  "metadata": {
    "colab": {
      "name": "lista_1.ipynb",
      "version": "0.3.2",
      "provenance": [],
      "include_colab_link": true
    },
    "kernelspec": {
      "name": "python3",
      "display_name": "Python 3"
    }
  },
  "cells": [
    {
      "cell_type": "markdown",
      "metadata": {
        "id": "view-in-github",
        "colab_type": "text"
      },
      "source": [
        "[View in Colaboratory](https://colab.research.google.com/github/msc-johntheo/reconhecimento-de-padroes/blob/master/lista_1.ipynb)"
      ]
    },
    {
      "metadata": {
        "id": "nTV7prqjg3K4",
        "colab_type": "text"
      },
      "cell_type": "markdown",
      "source": [
        "<table>\n",
        "  <tr>\n",
        "    <td>\n",
        "      <center>\n",
        "        <img src=\"https://coens.dv.utfpr.edu.br/hub/wp-content/themes/generatepress/img/logo_utf.png\" width=\"200\"/>\n",
        "      </center>\n",
        "    </td>\n",
        "    <td>\n",
        "      <center style=\"grid-column-start: 2; grid-column-end: 3\">\n",
        "        <h1>Aprendizado de Máquina e Reconhecimento de Padrões</h1>\n",
        "        <h2>Universidade Tecnológica Federal do Paraná - CPGEI</h2>\n",
        "        <h3> John Theo - <john.theo.souza@gmail.com> </h3>\n",
        "      </center>\n",
        "    </td>\n",
        "    <td>\n",
        "      <center>\n",
        "        <img src=\"http://www.utfpr.edu.br/curitiba/estrutura-universitaria/diretorias/dirppg/programas/cpgei/inicio/CPGEI.png\" width=\"400\"/>\n",
        "      </center>\n",
        "    </td>\n",
        "  </tr>\n",
        "</table>\n"
      ]
    },
    {
      "metadata": {
        "id": "VXCjCUP_l_-M",
        "colab_type": "text"
      },
      "cell_type": "markdown",
      "source": [
        "#Lista de Exercícios 1\n",
        "## Tópicos: Introdução à análise de padrões"
      ]
    },
    {
      "metadata": {
        "id": "qxVBAC6NmX5Q",
        "colab_type": "text"
      },
      "cell_type": "markdown",
      "source": [
        "### Parte 1 - Exercícios Teóricos"
      ]
    },
    {
      "metadata": {
        "id": "C3IVQAJHmjRJ",
        "colab_type": "text"
      },
      "cell_type": "markdown",
      "source": [
        "1.  Considerar uma família com duas crianças. Assumir que existe a mesma chance de cada criança ser menino ou meninoa. Qual a probabilidade de ambas serem meninos, dado que:  \n",
        "  **a.** a mais velha é menino  \n",
        "  **b.** pelo menos um deles é menino\n",
        "\n"
      ]
    }
  ]
}